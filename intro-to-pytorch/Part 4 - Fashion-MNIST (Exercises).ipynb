{
 "cells": [
  {
   "cell_type": "markdown",
   "metadata": {},
   "source": [
    "# Classifying Fashion-MNIST\n",
    "\n",
    "Now it's your turn to build and train a neural network. You'll be using the [Fashion-MNIST dataset](https://github.com/zalandoresearch/fashion-mnist), a drop-in replacement for the MNIST dataset. MNIST is actually quite trivial with neural networks where you can easily achieve better than 97% accuracy. Fashion-MNIST is a set of 28x28 greyscale images of clothes. It's more complex than MNIST, so it's a better representation of the actual performance of your network, and a better representation of datasets you'll use in the real world.\n",
    "\n",
    "<img src='assets/fashion-mnist-sprite.png' width=500px>\n",
    "\n",
    "In this notebook, you'll build your own neural network. For the most part, you could just copy and paste the code from Part 3, but you wouldn't be learning. It's important for you to write the code yourself and get it to work. Feel free to consult the previous notebooks though as you work through this.\n",
    "\n",
    "First off, let's load the dataset through torchvision."
   ]
  },
  {
   "cell_type": "code",
<<<<<<< HEAD
   "execution_count": 2,
=======
   "execution_count": null,
>>>>>>> upstream/master
   "metadata": {},
   "outputs": [],
   "source": [
    "import torch\n",
    "from torchvision import datasets, transforms\n",
    "import helper\n",
    "\n",
    "# Define a transform to normalize the data\n",
    "transform = transforms.Compose([transforms.ToTensor(),\n",
    "                                transforms.Normalize((0.5, 0.5, 0.5), (0.5, 0.5, 0.5))])\n",
    "# Download and load the training data\n",
    "trainset = datasets.FashionMNIST('~/.pytorch/F_MNIST_data/', download=True, train=True, transform=transform)\n",
    "trainloader = torch.utils.data.DataLoader(trainset, batch_size=64, shuffle=True)\n",
    "\n",
    "# Download and load the test data\n",
    "testset = datasets.FashionMNIST('~/.pytorch/F_MNIST_data/', download=True, train=False, transform=transform)\n",
    "testloader = torch.utils.data.DataLoader(testset, batch_size=64, shuffle=True)"
   ]
  },
  {
   "cell_type": "markdown",
   "metadata": {},
   "source": [
    "Here we can see one of the images."
   ]
  },
  {
   "cell_type": "code",
<<<<<<< HEAD
   "execution_count": 3,
   "metadata": {},
   "outputs": [
    {
     "data": {
      "image/png": "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\n",
      "text/plain": [
       "<Figure size 432x288 with 1 Axes>"
      ]
     },
     "metadata": {},
     "output_type": "display_data"
    }
   ],
=======
   "execution_count": null,
   "metadata": {},
   "outputs": [],
>>>>>>> upstream/master
   "source": [
    "image, label = next(iter(trainloader))\n",
    "helper.imshow(image[0,:]);"
   ]
  },
  {
   "cell_type": "markdown",
   "metadata": {},
   "source": [
    "## Building the network\n",
    "\n",
    "Here you should define your network. As with MNIST, each image is 28x28 which is a total of 784 pixels, and there are 10 classes. You should include at least one hidden layer. We suggest you use ReLU activations for the layers and to return the logits or log-softmax from the forward pass. It's up to you how many layers you add and the size of those layers."
   ]
  },
  {
   "cell_type": "code",
   "execution_count": 4,
   "metadata": {},
   "outputs": [
    {
     "name": "stdout",
     "output_type": "stream",
     "text": [
      "cuda:0\n"
     ]
    }
   ],
   "source": [
    "device = torch.device(\"cuda:0\" if torch.cuda.is_available() else \"cpu\")\n",
    "\n",
    "# Assume that we are on a CUDA machine, then this should print a CUDA device:\n",
    "\n",
    "print(device)"
   ]
  },
  {
   "cell_type": "code",
   "execution_count": 5,
   "metadata": {},
   "outputs": [],
   "source": [
    "# TODO: Define your network architecture here\n",
    "from torch import nn, optim\n",
    "import torch.nn.functional as F\n",
    "\n",
    "class Classifier(nn.Module):\n",
    "    def __init__(self):\n",
    "        super().__init__()\n",
    "        self.fc1 = nn.Linear(784,256)\n",
    "        self.fc2 = nn.Linear(256,128)\n",
    "        self.fc3 = nn.Linear(128,64)\n",
    "        self.fc4 = nn.Linear(64,10)\n",
    "        \n",
    "    def forward(self, x):\n",
    "        x = x.view(x.shape[0], -1)\n",
    "        x = F.relu(self.fc1(x))\n",
    "        x = F.relu(self.fc2(x))\n",
    "        x = F.relu(self.fc3(x))\n",
    "        x = F.log_softmax(self.fc4(x),dim=1)\n",
    "        return x"
   ]
  },
  {
   "cell_type": "markdown",
   "metadata": {},
   "source": [
    "# Train the network\n",
    "\n",
    "Now you should create your network and train it. First you'll want to define [the criterion](http://pytorch.org/docs/master/nn.html#loss-functions) ( something like `nn.CrossEntropyLoss`) and [the optimizer](http://pytorch.org/docs/master/optim.html) (typically `optim.SGD` or `optim.Adam`).\n",
    "\n",
    "Then write the training code. Remember the training pass is a fairly straightforward process:\n",
    "\n",
    "* Make a forward pass through the network to get the logits \n",
    "* Use the logits to calculate the loss\n",
    "* Perform a backward pass through the network with `loss.backward()` to calculate the gradients\n",
    "* Take a step with the optimizer to update the weights\n",
    "\n",
    "By adjusting the hyperparameters (hidden units, learning rate, etc), you should be able to get the training loss below 0.4."
   ]
  },
  {
   "cell_type": "code",
   "execution_count": 6,
   "metadata": {},
   "outputs": [],
   "source": [
    "import time"
   ]
  },
  {
   "cell_type": "code",
   "execution_count": 7,
   "metadata": {},
   "outputs": [],
   "source": [
    "# TODO: Create the network, define the criterion and optimizer\n",
    "m = Classifier()\n",
    "#m.cuda()\n",
    "loss = nn.NLLLoss().cuda()\n",
    "opt = optim.Adam(m.parameters(),lr=0.005)"
   ]
  },
  {
   "cell_type": "code",
   "execution_count": 8,
   "metadata": {},
   "outputs": [
    {
     "name": "stdout",
     "output_type": "stream",
     "text": [
      "Training loss: 0.5310050078165303\n",
      "Training loss: 0.4093709935162113\n",
      "Training loss: 0.38158957932644816\n",
      "Training loss: 0.3558579533339055\n",
      "Training loss: 0.3407538588653241\n",
      "Training loss: 0.33092427001134167\n",
      "Training loss: 0.32470027605957313\n",
      "Training loss: 0.31690182278691326\n",
      "Training loss: 0.30365783289900977\n",
      "Training loss: 0.30480975370163094\n",
      "85.11953830718994\n"
     ]
    }
   ],
   "source": [
    "# TODO: Train the network here\n",
    "epochs = 10\n",
    "\n",
    "start = time.time()\n",
    "\n",
    "for e in range(epochs):\n",
    "    running_loss = 0\n",
    "    for imgs, labels in trainloader:\n",
    "        opt.zero_grad()\n",
    "        #imgs = imgs.cuda()\n",
    "        #labels = labels.cuda()\n",
    "        outs = m(imgs)\n",
    "        l = loss(outs,labels)\n",
    "        l.backward()\n",
    "        opt.step()\n",
    "        running_loss += l.item()\n",
    "    print(f\"Training loss: {running_loss/len(trainloader)}\")\n",
    "end = time.time()\n",
    "print(end - start)"
   ]
  },
  {
   "cell_type": "code",
   "execution_count": 45,
   "metadata": {},
   "outputs": [
    {
     "data": {
      "image/png": "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\n",
      "text/plain": [
       "<Figure size 432x648 with 2 Axes>"
      ]
     },
     "metadata": {
      "image/png": {
       "height": 204,
       "width": 423
      }
     },
     "output_type": "display_data"
    }
   ],
   "source": [
    "%matplotlib inline\n",
    "%config InlineBackend.figure_format = 'retina'\n",
    "\n",
    "import helper\n",
    "\n",
    "# Test out your network!\n",
    "\n",
    "dataiter = iter(testloader)\n",
    "images, labels = dataiter.next()\n",
    "img = images[0]\n",
    "# Convert 2D image to 1D vector\n",
    "img = img.resize_(1, 784)\n",
    "img = img.cuda()\n",
    "\n",
    "# TODO: Calculate the class probabilities (softmax) for img\n",
    "ps = torch.exp(m.forward(img)).cpu()\n",
    "\n",
    "# Plot the image and probabilities\n",
    "helper.view_classify(img.cpu().resize_(1, 28, 28), ps, version='Fashion')"
   ]
  }
 ],
 "metadata": {
  "kernelspec": {
   "display_name": "Python 3 (AI)",
   "language": "python",
   "name": "ai"
  },
  "language_info": {
   "codemirror_mode": {
    "name": "ipython",
    "version": 3
   },
   "file_extension": ".py",
   "mimetype": "text/x-python",
   "name": "python",
   "nbconvert_exporter": "python",
   "pygments_lexer": "ipython3",
   "version": "3.6.7"
  }
 },
 "nbformat": 4,
 "nbformat_minor": 2
}

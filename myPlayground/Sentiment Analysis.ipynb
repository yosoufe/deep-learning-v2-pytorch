{
 "cells": [
  {
   "cell_type": "code",
   "execution_count": 1,
   "metadata": {},
   "outputs": [],
   "source": [
    "labelfile = \"data/sentimentLabels.txt\"\n",
    "reviewfile = \"data/sentimentReviews.txt\""
   ]
  },
  {
   "cell_type": "code",
   "execution_count": 2,
   "metadata": {},
   "outputs": [],
   "source": [
    "with open(labelfile,'r') as f:\n",
    "    labelsRaw = f.read()\n",
    "with open(reviewfile,'r') as f:\n",
    "    reviewsRaw = f.read()"
   ]
  },
  {
   "cell_type": "code",
   "execution_count": 3,
   "metadata": {},
   "outputs": [
    {
     "name": "stdout",
     "output_type": "stream",
     "text": [
      "bromwell high is a cartoon comedy . it ran at the same time as some other programs about school life\n"
     ]
    }
   ],
   "source": [
    "from string import punctuation\n",
    "\n",
    "reviewsWithouTPunct = ''.join (c for c in reviewsRaw if c not in punctuation or c =='.')\n",
    "print (reviewsWithouTPunct[:100])"
   ]
  },
  {
   "cell_type": "markdown",
   "metadata": {},
   "source": [
    "# pre processing"
   ]
  },
  {
   "cell_type": "code",
   "execution_count": 4,
   "metadata": {
    "scrolled": false
   },
   "outputs": [
    {
     "name": "stdout",
     "output_type": "stream",
     "text": [
      "['positive', 'negative']\n",
      "[['bromwell', 'high', 'is', 'a', 'cartoon', 'comedy', '.', 'it', 'ran', 'at', 'the', 'same', 'time', 'as', 'some', 'other', 'programs', 'about', 'school', 'life', 'such', 'as', 'teachers', '.', 'my', 'years', 'in', 'the', 'teaching', 'profession', 'lead', 'me', 'to', 'believe', 'that', 'bromwell', 'high', 's', 'satire', 'is', 'much', 'closer', 'to', 'reality', 'than', 'is', 'teachers', '.', 'the', 'scramble', 'to', 'survive', 'financially', 'the', 'insightful', 'students', 'who', 'can', 'see', 'right', 'through', 'their', 'pathetic', 'teachers', 'pomp', 'the', 'pettiness', 'of', 'the', 'whole', 'situation', 'all', 'remind', 'me', 'of', 'the', 'schools', 'i', 'knew', 'and', 'their', 'students', '.', 'when', 'i', 'saw', 'the', 'episode', 'in', 'which', 'a', 'student', 'repeatedly', 'tried', 'to', 'burn', 'down', 'the', 'school', 'i', 'immediately', 'recalled', '.', '.', '.', '.', '.', '.', '.', '.', '.', 'at', '.', '.', '.', '.', '.', '.', '.', '.', '.', '.', 'high', '.', 'a', 'classic', 'line', 'inspector', 'i', 'm', 'here', 'to', 'sack', 'one', 'of', 'your', 'teachers', '.', 'student', 'welcome', 'to', 'bromwell', 'high', '.', 'i', 'expect', 'that', 'many', 'adults', 'of', 'my', 'age', 'think', 'that', 'bromwell', 'high', 'is', 'far', 'fetched', '.', 'what', 'a', 'pity', 'that', 'it', 'isn', 't'], ['story', 'of', 'a', 'man', 'who', 'has', 'unnatural', 'feelings', 'for', 'a', 'pig', '.', 'starts', 'out', 'with', 'a', 'opening', 'scene', 'that', 'is', 'a', 'terrific', 'example', 'of', 'absurd', 'comedy', '.', 'a', 'formal', 'orchestra', 'audience', 'is', 'turned', 'into', 'an', 'insane', 'violent', 'mob', 'by', 'the', 'crazy', 'chantings', 'of', 'it', 's', 'singers', '.', 'unfortunately', 'it', 'stays', 'absurd', 'the', 'whole', 'time', 'with', 'no', 'general', 'narrative', 'eventually', 'making', 'it', 'just', 'too', 'off', 'putting', '.', 'even', 'those', 'from', 'the', 'era', 'should', 'be', 'turned', 'off', '.', 'the', 'cryptic', 'dialogue', 'would', 'make', 'shakespeare', 'seem', 'easy', 'to', 'a', 'third', 'grader', '.', 'on', 'a', 'technical', 'level', 'it', 's', 'better', 'than', 'you', 'might', 'think', 'with', 'some', 'good', 'cinematography', 'by', 'future', 'great', 'vilmos', 'zsigmond', '.', 'future', 'stars', 'sally', 'kirkland', 'and', 'frederic', 'forrest', 'can', 'be', 'seen', 'briefly', '.']]\n"
     ]
    }
   ],
   "source": [
    "labels = labelsRaw.splitlines()\n",
    "revs = reviewsWithouTPunct.splitlines()\n",
    "\n",
    "all_words= list()\n",
    "\n",
    "reviews = list()\n",
    "for review in revs:\n",
    "    reviews.append(review.split())\n",
    "    all_words += reviews[-1]\n",
    "\n",
    "\n",
    "print(labels[:2])\n",
    "print(reviews[:2])"
   ]
  },
  {
   "cell_type": "code",
   "execution_count": 5,
   "metadata": {},
   "outputs": [
    {
     "name": "stdout",
     "output_type": "stream",
     "text": [
      "74073\n",
      "['bromwell', 'high', 'is', 'a', 'cartoon', 'comedy', '.', 'it', 'ran', 'at', 'the', 'same', 'time', 'as', 'some', 'other', 'programs', 'about', 'school', 'life', 'such', 'as', 'teachers', '.', 'my', 'years', 'in', 'the', 'teaching', 'profession', 'lead', 'me', 'to', 'believe', 'that', 'bromwell', 'high', 's', 'satire', 'is', 'much', 'closer', 'to', 'reality', 'than', 'is', 'teachers', '.', 'the', 'scramble', 'to', 'survive', 'financially', 'the', 'insightful', 'students', 'who', 'can', 'see', 'right', 'through', 'their', 'pathetic', 'teachers', 'pomp', 'the', 'pettiness', 'of', 'the', 'whole', 'situation', 'all', 'remind', 'me', 'of', 'the', 'schools', 'i', 'knew', 'and', 'their', 'students', '.', 'when', 'i', 'saw', 'the', 'episode', 'in', 'which', 'a', 'student', 'repeatedly', 'tried', 'to', 'burn', 'down', 'the', 'school', 'i']\n"
     ]
    }
   ],
   "source": [
    "print (len(set(all_words)))\n",
    "print(all_words[:100])"
   ]
  },
  {
   "cell_type": "code",
   "execution_count": 6,
   "metadata": {},
   "outputs": [
    {
     "name": "stdout",
     "output_type": "stream",
     "text": [
      "number of unique words: 74073\n",
      "the most repeated words: [('the', 336713), ('.', 327192), ('and', 164107), ('a', 163009), ('of', 145864), ('to', 135720), ('is', 107328), ('br', 101872), ('it', 96352), ('in', 93968)]\n",
      "some least repeated words [('whelk', 1), ('hued', 1)]\n"
     ]
    }
   ],
   "source": [
    "from collections import Counter\n",
    "c = Counter(all_words)\n",
    "srt = c.most_common()\n",
    "print (\"number of unique words:\", len(srt))\n",
    "print (\"the most repeated words:\", srt[:10])\n",
    "print (\"some least repeated words\", srt[-2:])"
   ]
  },
  {
   "cell_type": "code",
   "execution_count": 7,
   "metadata": {},
   "outputs": [
    {
     "name": "stdout",
     "output_type": "stream",
     "text": [
      "vocab sample ['the', '.', 'and', 'a', 'of', 'to', 'is', 'br', 'it', 'in']\n"
     ]
    }
   ],
   "source": [
    "vocab = [word for word,_ in srt]\n",
    "print (\"vocab sample\" , vocab[:10])"
   ]
  },
  {
   "cell_type": "code",
   "execution_count": 8,
   "metadata": {},
   "outputs": [],
   "source": [
    "word2int = {word: i+1 for i,word in enumerate(vocab)}\n",
    "int2word = {i+1: word for i,word in enumerate(vocab)}"
   ]
  },
  {
   "cell_type": "code",
   "execution_count": 9,
   "metadata": {},
   "outputs": [],
   "source": [
    "# encode reviews\n",
    "reviews_int = [[word2int[w] for w in review] for review in reviews]"
   ]
  },
  {
   "cell_type": "code",
   "execution_count": 10,
   "metadata": {},
   "outputs": [
    {
     "name": "stdout",
     "output_type": "stream",
     "text": [
      "21026\n",
      "[[21026, 309, 7, 4, 1051, 208, 2, 9, 2139, 33, 1, 172, 58, 16, 50, 82, 5786, 45, 383, 111, 141, 16, 5195, 2, 61, 155, 10, 1, 4976, 5853, 476, 72, 6, 261, 13, 21026, 309, 14, 1979, 7, 75, 2396, 6, 614, 74, 7, 5195, 2, 1, 24104, 6, 1984, 10167, 1, 5787, 1500, 37, 52, 67, 205, 146, 68, 1200, 5195, 19870, 1, 37443, 5, 1, 222, 884, 32, 2989, 72, 5, 1, 5788, 11, 687, 3, 68, 1500, 2, 55, 11, 217, 1, 384, 10, 63, 4, 1407, 3687, 784, 6, 3484, 181, 1, 383, 11, 1213, 13584, 2, 2, 2, 2, 2, 2, 2, 2, 2, 33, 2, 2, 2, 2, 2, 2, 2, 2, 2, 2, 309, 2, 4, 350, 342, 2914, 11, 144, 128, 6, 7691, 31, 5, 130, 5195, 2, 1407, 2327, 6, 21026, 309, 2, 11, 529, 13, 110, 1449, 5, 61, 544, 103, 13, 21026, 309, 7, 228, 4147, 2, 49, 4, 2212, 13, 9, 216, 24], [64, 5, 4, 126, 37, 48, 7473, 1396, 17, 4, 4182, 2, 506, 46, 18, 4, 623, 135, 13, 7, 4, 1280, 458, 5, 1722, 208, 2, 4, 10625, 7374, 301, 7, 668, 84, 36, 2117, 1087, 2990, 35, 1, 899, 46418, 5, 9, 14, 5097, 2, 465, 9, 2657, 1722, 1, 222, 58, 18, 59, 795, 1298, 833, 229, 9, 44, 99, 124, 1470, 2, 60, 148, 39, 1, 964, 143, 30, 668, 124, 2, 1, 13585, 411, 62, 95, 1775, 307, 756, 6, 4, 820, 10397, 2, 23, 4, 1725, 636, 9, 14, 129, 74, 22, 234, 103, 18, 50, 51, 618, 35, 683, 86, 28786, 28787, 2, 683, 375, 3342, 11399, 3, 16372, 7947, 52, 30, 109, 3325, 2]]\n"
     ]
    }
   ],
   "source": [
    "print(word2int[reviews[0][0]])\n",
    "print(reviews_int[:2])"
   ]
  },
  {
   "cell_type": "code",
   "execution_count": 18,
   "metadata": {},
   "outputs": [],
   "source": [
    "# encode labels\n",
    "enc_labels = [1.0 if la =='positive' else 0.0 for la in labels]"
   ]
  },
  {
   "cell_type": "code",
   "execution_count": 19,
   "metadata": {},
   "outputs": [
    {
     "data": {
      "text/plain": [
       "[1.0, 0.0, 1.0, 0.0, 1.0]"
      ]
     },
     "execution_count": 19,
     "metadata": {},
     "output_type": "execute_result"
    }
   ],
   "source": [
    "enc_labels[:5]"
   ]
  },
  {
   "cell_type": "code",
   "execution_count": 27,
   "metadata": {},
   "outputs": [
    {
     "name": "stdout",
     "output_type": "stream",
     "text": [
      "Zero-length reviews: 0\n",
      "Maximum review length: 2633\n"
     ]
    }
   ],
   "source": [
    "# remove outliers\n",
    "review_lens = Counter([len(x) for x in reviews_int])\n",
    "print(\"Zero-length reviews: {}\".format(review_lens[0]))\n",
    "print(\"Maximum review length: {}\".format(max(review_lens)))"
   ]
  },
  {
   "cell_type": "code",
   "execution_count": null,
   "metadata": {},
   "outputs": [],
   "source": []
  }
 ],
 "metadata": {
  "kernelspec": {
   "display_name": "Python 3 (AI)",
   "language": "python",
   "name": "ai"
  },
  "language_info": {
   "codemirror_mode": {
    "name": "ipython",
    "version": 3
   },
   "file_extension": ".py",
   "mimetype": "text/x-python",
   "name": "python",
   "nbconvert_exporter": "python",
   "pygments_lexer": "ipython3",
   "version": "3.6.7"
  }
 },
 "nbformat": 4,
 "nbformat_minor": 2
}

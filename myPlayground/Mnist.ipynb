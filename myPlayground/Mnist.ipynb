{
 "cells": [
  {
   "cell_type": "code",
   "execution_count": 1,
   "metadata": {},
   "outputs": [],
   "source": [
    "import torch\n",
    "import matplotlib.pyplot as plt\n",
    "from torch import nn\n",
    "import torch.nn.functional as F\n",
    "from torchvision import transforms, datasets"
   ]
  },
  {
   "cell_type": "markdown",
   "metadata": {},
   "source": [
    "# MNIST example from scratch"
   ]
  },
  {
   "cell_type": "markdown",
   "metadata": {},
   "source": [
    "## Read files into numpy array and plot"
   ]
  },
  {
   "cell_type": "code",
   "execution_count": 26,
   "metadata": {
    "scrolled": false
   },
   "outputs": [
    {
     "name": "stdout",
     "output_type": "stream",
     "text": [
      "['../../data/MNIST/original/train-labels-idx1-ubyte', '../../data/MNIST/original/t10k-images-idx3-ubyte', '../../data/MNIST/original/t10k-labels-idx1-ubyte', '../../data/MNIST/original/train-images-idx3-ubyte']\n",
      "60000 labels with shape of (1,), Output shape: (60000, 1)\n",
      "60000 images with shape of (28, 28), Output shape: (60000, 1, 28, 28)\n",
      "10000 labels with shape of (1,), Output shape: (10000, 1)\n",
      "10000 images with shape of (28, 28), Output shape: (10000, 1, 28, 28)\n"
     ]
    },
    {
     "data": {
      "image/png": "[encoded data removed]",
      "text/plain": [
       "<Figure size 432x288 with 1 Axes>"
      ]
     },
     "metadata": {},
     "output_type": "display_data"
    },
    {
     "name": "stdout",
     "output_type": "stream",
     "text": [
      "label: [4]\n"
     ]
    }
   ],
   "source": [
    "import glob\n",
    "files = glob.glob(\"../../data/MNIST/original/**\")\n",
    "assert (len(files)==4), \"4 Files are required\"\n",
    "print(files)\n",
    "\n",
    "import struct\n",
    "import numpy as np\n",
    "\n",
    "\n",
    "def readImages(filePath):\n",
    "    with open(filePath, 'rb') as f:\n",
    "        struct.unpack('>i',f.read(4))[0]\n",
    "        n_images = struct.unpack('>i',f.read(4))[0] \n",
    "        n_rows = struct.unpack('>i',f.read(4))[0]\n",
    "        n_cols = struct.unpack('>i',f.read(4))[0]\n",
    "        images = np.fromfile(f,dtype=np.uint8)\n",
    "    assert (n_images==images.shape[0]/n_cols/n_rows), \"Problem in reading the file. \\\n",
    "    The header of file does not match with its data\"\n",
    "    images = images.reshape(-1,1,n_rows,n_cols)\n",
    "    print(\"{n_i} images with shape of {shape}, Output shape: {o_sh}\".format(\n",
    "        n_i = n_images, shape = (n_rows, n_cols), o_sh=images.shape))\n",
    "    return images\n",
    "\n",
    "def readLables(filePath):\n",
    "    with open(filePath, 'rb') as f:\n",
    "        struct.unpack('>i',f.read(4))[0]\n",
    "        n_labels = struct.unpack('>i',f.read(4))[0] \n",
    "        labels = np.fromfile(f,dtype=np.uint8)\n",
    "    assert (n_labels==labels.shape[0]), \"Problem in reading the file. \\\n",
    "    The header of file does not match with its data\"\n",
    "    labels = labels.reshape(n_labels,-1)\n",
    "    print(\"{n_i} labels with shape of {shape}, Output shape: {o_sh}\".format(\n",
    "        n_i = n_labels, shape = labels[0].shape, o_sh = labels.shape))\n",
    "    return labels\n",
    "\n",
    "train_labels=readLables(files[0])\n",
    "train_images=readImages(files[3])\n",
    "test_labels=readLables(files[2])\n",
    "test_images=readImages(files[1])\n",
    "\n",
    "idx = 15347\n",
    "plt.imshow(train_images[idx,0,:,:],cmap='gray')\n",
    "plt.show()\n",
    "print (\"label:\" ,train_labels[idx])"
   ]
  },
  {
   "cell_type": "code",
   "execution_count": 10,
   "metadata": {},
   "outputs": [
    {
     "name": "stdout",
     "output_type": "stream",
     "text": [
      "(1, 28, 28)\n"
     ]
    }
   ],
   "source": [
    "print (train_images[idx,:,:,:].shape)"
   ]
  },
  {
   "cell_type": "code",
   "execution_count": 23,
   "metadata": {
    "scrolled": true
   },
   "outputs": [],
   "source": [
    "tr = transforms.Compose([transforms.ToTensor() ,\n",
    "                         transforms.Normalize(([0.5]),([0.5]))])\n",
    "# Transforms support only single images according to https://github.com/pytorch/vision/issues/157"
   ]
  },
  {
   "cell_type": "code",
   "execution_count": 22,
   "metadata": {},
   "outputs": [
    {
     "name": "stdout",
     "output_type": "stream",
     "text": [
      "torch.Size([28, 1, 28])\n"
     ]
    }
   ],
   "source": [
    "out = tr(train_images[idx,:,:,:])\n",
    "print(out.shape)"
   ]
  },
  {
   "cell_type": "code",
   "execution_count": 16,
   "metadata": {},
   "outputs": [],
   "source": [
    "trainset = datasets.MNIST('~/.pytorch/MNIST_data/', download=True, train=True)\n",
    "trainloader = torch.utils.data.DataLoader(trainset, batch_size=64, shuffle=True)"
   ]
  },
  {
   "cell_type": "code",
   "execution_count": 19,
   "metadata": {},
   "outputs": [
    {
     "name": "stdout",
     "output_type": "stream",
     "text": [
      "<class 'torchvision.datasets.mnist.MNIST'>\n"
     ]
    }
   ],
   "source": [
    "print(type(trainset))"
   ]
  },
  {
   "cell_type": "markdown",
   "metadata": {},
   "source": [
    "# Manual Dataset & DataLoader"
   ]
  },
  {
   "cell_type": "code",
   "execution_count": 39,
   "metadata": {},
   "outputs": [],
   "source": [
    "from torch.utils.data import Dataset, DataLoader\n",
    "class ManualMnistDataset(Dataset):\n",
    "    \"\"\" Mnist Manual Dataset\"\"\"\n",
    "    def __init__(self, imgsPath, labelPath, transform = None):\n",
    "        def readImages(filePath):\n",
    "            with open(filePath, 'rb') as f:\n",
    "                struct.unpack('>i',f.read(4))[0]\n",
    "                n_images = struct.unpack('>i',f.read(4))[0] \n",
    "                n_rows = struct.unpack('>i',f.read(4))[0]\n",
    "                n_cols = struct.unpack('>i',f.read(4))[0]\n",
    "                images = np.fromfile(f,dtype=np.uint8)\n",
    "            assert (n_images==images.shape[0]/n_cols/n_rows), \"Problem in reading the file. \\\n",
    "            The header of file does not match with its data\"\n",
    "            images = images.reshape(-1,1,n_rows,n_cols)\n",
    "            print(\"{n_i} images with shape of {shape}, Output shape: {o_sh}\".format(\n",
    "                n_i = n_images, shape = (n_rows, n_cols), o_sh=images.shape))\n",
    "            return images\n",
    "\n",
    "        def readLables(filePath):\n",
    "            with open(filePath, 'rb') as f:\n",
    "                struct.unpack('>i',f.read(4))[0]\n",
    "                n_labels = struct.unpack('>i',f.read(4))[0] \n",
    "                labels = np.fromfile(f,dtype=np.uint8)\n",
    "            assert (n_labels==labels.shape[0]), \"Problem in reading the file. \\\n",
    "            The header of file does not match with its data\"\n",
    "            labels = labels.reshape(n_labels,-1)\n",
    "            print(\"{n_i} labels with shape of {shape}, Output shape: {o_sh}\".format(\n",
    "                n_i = n_labels, shape = labels[0].shape, o_sh = labels.shape))\n",
    "            return labels\n",
    "        \n",
    "        self.imgsPath = imgsPath\n",
    "        self.imgs = readImages(imgsPath)\n",
    "        self.labelPath = labelPath\n",
    "        self.labels = readLables(labelPath)\n",
    "        self.transform = transform\n",
    "        \n",
    "    def __len__(self):\n",
    "        return self.imgs.shape[0]\n",
    "    \n",
    "    def __getitem__(self, idx):\n",
    "        label = self.labels[idx]\n",
    "        img = self.imgs[idx,:,:,:]\n",
    "        \n",
    "        sample = {'image': img, 'label': label}\n",
    "        \n",
    "        if self.transform:\n",
    "            sample = self.transform(sample)\n",
    "        return sample"
   ]
  },
  {
   "cell_type": "code",
   "execution_count": 40,
   "metadata": {},
   "outputs": [
    {
     "name": "stdout",
     "output_type": "stream",
     "text": [
      "60000 images with shape of (28, 28), Output shape: (60000, 1, 28, 28)\n",
      "60000 labels with shape of (1,), Output shape: (60000, 1)\n"
     ]
    },
    {
     "data": {
      "image/png": "[encoded data removed]",
      "text/plain": [
       "<Figure size 432x288 with 4 Axes>"
      ]
     },
     "metadata": {},
     "output_type": "display_data"
    }
   ],
   "source": [
    "mnist = ManualMnistDataset(files[3],files[0])\n",
    "fig = plt.figure()\n",
    "\n",
    "for i in range(len(mnist)):\n",
    "    sample = mnist[i]\n",
    "    ax = plt.subplot(1, 4, i + 1)\n",
    "    plt.tight_layout()\n",
    "    ax.set_title('Sample #{} \\n Label: {}'.format(i,sample['label']))\n",
    "    ax.axis('off')\n",
    "    plt.imshow(np.squeeze(sample['image']),cmap='gray')\n",
    "\n",
    "    if i == 3:\n",
    "        plt.show()\n",
    "        break"
   ]
  }
 ],
 "metadata": {
  "kernelspec": {
   "display_name": "Python 3 (AI)",
   "language": "python",
   "name": "ai"
  },
  "language_info": {
   "codemirror_mode": {
    "name": "ipython",
    "version": 3
   },
   "file_extension": ".py",
   "mimetype": "text/x-python",
   "name": "python",
   "nbconvert_exporter": "python",
   "pygments_lexer": "ipython3",
   "version": "3.6.7"
  }
 },
 "nbformat": 4,
 "nbformat_minor": 2
}
